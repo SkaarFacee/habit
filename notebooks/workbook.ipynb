{
 "cells": [
  {
   "cell_type": "code",
   "execution_count": 3,
   "id": "312d9128",
   "metadata": {},
   "outputs": [
    {
     "name": "stderr",
     "output_type": "stream",
     "text": [
      "usage: ipykernel_launcher.py [-h] [--list] [--max MAX]\n",
      "ipykernel_launcher.py: error: unrecognized arguments: --f=/Users/adi/Library/Jupyter/runtime/kernel-v32dff074c61c7588f5949ee90abf7669d153161d3.json\n"
     ]
    },
    {
     "ename": "SystemExit",
     "evalue": "2",
     "output_type": "error",
     "traceback": [
      "An exception has occurred, use %tb to see the full traceback.\n",
      "\u001b[31mSystemExit\u001b[39m\u001b[31m:\u001b[39m 2\n"
     ]
    },
    {
     "name": "stderr",
     "output_type": "stream",
     "text": [
      "/opt/anaconda3/envs/habit/lib/python3.12/site-packages/IPython/core/interactiveshell.py:3680: UserWarning: To exit: use 'exit', 'quit', or Ctrl-D.\n",
      "  warn(\"To exit: use 'exit', 'quit', or Ctrl-D.\", stacklevel=1)\n"
     ]
    }
   ],
   "source": [
    "import os\n",
    "import argparse\n",
    "\n",
    "from google.auth.transport.requests import Request\n",
    "from google.oauth2.credentials import Credentials\n",
    "from google_auth_oauthlib.flow import InstalledAppFlow\n",
    "from googleapiclient.discovery import build\n",
    "from googleapiclient.errors import HttpError\n",
    "\n",
    "# Define the required scopes\n",
    "SCOPES = [\"https://www.googleapis.com/auth/tasks.readonly\"]\n",
    "\n",
    "def authenticate():\n",
    "    \"\"\"Authenticate user and return Google Tasks service object.\"\"\"\n",
    "    creds = None\n",
    "    if os.path.exists(\"token.json\"):\n",
    "        creds = Credentials.from_authorized_user_file(\"token.json\", SCOPES)\n",
    "\n",
    "    if not creds or not creds.valid:\n",
    "        if creds and creds.expired and creds.refresh_token:\n",
    "            creds.refresh(Request())\n",
    "        else:\n",
    "            flow = InstalledAppFlow.from_client_secrets_file(\"credentials.json\", SCOPES)\n",
    "            creds = flow.run_local_server(port=0)\n",
    "\n",
    "        # Save credentials for the next run\n",
    "        with open(\"token.json\", \"w\") as token:\n",
    "            token.write(creds.to_json())\n",
    "\n",
    "    try:\n",
    "        service = build(\"tasks\", \"v1\", credentials=creds)\n",
    "        return service\n",
    "    except HttpError as err:\n",
    "        print(f\"An error occurred: {err}\")\n",
    "        return None\n",
    "\n",
    "def list_task_lists(service, max_results=10):\n",
    "    \"\"\"List task lists from the user's Google Tasks account.\"\"\"\n",
    "    try:\n",
    "        results = service.tasklists().list(maxResults=max_results).execute()\n",
    "        items = results.get(\"items\", [])\n",
    "\n",
    "        if not items:\n",
    "            print(\"No task lists found.\")\n",
    "            return\n",
    "\n",
    "        print(\"Task lists:\")\n",
    "        for item in items:\n",
    "            print(f\"- {item['title']} ({item['id']})\")\n",
    "\n",
    "    except HttpError as err:\n",
    "        print(f\"API error: {err}\")\n",
    "\n",
    "def main():\n",
    "    parser = argparse.ArgumentParser(description=\"CLI app to access Google Tasks\")\n",
    "    parser.add_argument(\n",
    "        \"--list\",\n",
    "        action=\"store_true\",\n",
    "        help=\"List the user's task lists from Google Tasks\",\n",
    "    )\n",
    "    parser.add_argument(\n",
    "        \"--max\",\n",
    "        type=int,\n",
    "        default=10,\n",
    "        help=\"Maximum number of task lists to retrieve (default: 10)\"\n",
    "    )\n",
    "    args = parser.parse_args()\n",
    "\n",
    "    service = authenticate()\n",
    "    if not service:\n",
    "        return\n",
    "\n",
    "    if args.list:\n",
    "        list_task_lists(service, args.max)\n",
    "    else:\n",
    "        parser.print_help()\n",
    "\n",
    "if __name__ == \"__main__\":\n",
    "    main()\n"
   ]
  },
  {
   "cell_type": "code",
   "execution_count": null,
   "id": "0c545259",
   "metadata": {},
   "outputs": [],
   "source": []
  }
 ],
 "metadata": {
  "kernelspec": {
   "display_name": "habit",
   "language": "python",
   "name": "habit"
  },
  "language_info": {
   "codemirror_mode": {
    "name": "ipython",
    "version": 3
   },
   "file_extension": ".py",
   "mimetype": "text/x-python",
   "name": "python",
   "nbconvert_exporter": "python",
   "pygments_lexer": "ipython3",
   "version": "3.12.11"
  }
 },
 "nbformat": 4,
 "nbformat_minor": 5
}
