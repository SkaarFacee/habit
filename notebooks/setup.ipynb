{
 "cells": [
  {
   "cell_type": "code",
   "execution_count": 11,
   "id": "13e4bc6f",
   "metadata": {},
   "outputs": [],
   "source": [
    "import os \n",
    "os.chdir('..')"
   ]
  },
  {
   "cell_type": "code",
   "execution_count": 12,
   "id": "5c537300",
   "metadata": {},
   "outputs": [
    {
     "name": "stdout",
     "output_type": "stream",
     "text": [
      "/Users/adi/Skaarfacee/github\n"
     ]
    }
   ],
   "source": [
    "print(os.getcwd())"
   ]
  },
  {
   "cell_type": "code",
   "execution_count": 13,
   "id": "ac9a22d9",
   "metadata": {},
   "outputs": [
    {
     "data": {
      "text/plain": [
       "OrderedDict([('MODEL', 'Gemini'),\n",
       "             ('GEMINI_API_KEY', '131j2b31j23b12j3'),\n",
       "             ('GEMINI_MODEL', 'gemini-2.0-flash')])"
      ]
     },
     "execution_count": 13,
     "metadata": {},
     "output_type": "execute_result"
    }
   ],
   "source": [
    "from pathlib import Path\n",
    "import dotenv\n",
    "from config.constants import CONFIG_FILE\n",
    "dotenv.dotenv_values(Path.home()/CONFIG_FILE)\n"
   ]
  },
  {
   "cell_type": "code",
   "execution_count": null,
   "id": "4e1c8bc0",
   "metadata": {},
   "outputs": [
    {
     "name": "stdout",
     "output_type": "stream",
     "text": [
      "{'category': 'Health', 'diificulty': 'MEDIUM'}\n"
     ]
    }
   ],
   "source": [
    "from google import genai\n",
    "import json \n",
    "from llm.base_response import BaseResponse\n",
    "\n",
    "from config.constants import DEFAULT_CATEGORIES,SCHEME\n",
    "\n",
    "categories=['Work','Play','Health']\n",
    "task='Do 100 pushups over the day'\n",
    "client = genai.Client()\n",
    "\n",
    "response = client.models.generate_content(\n",
    "    model=\"gemini-2.5-flash\",\n",
    "    contents=SCHEME.format(categories=DEFAULT_CATEGORIES,task=task),\n",
    "    config={\n",
    "    \"response_mime_type\": \"application/json\",\n",
    "    \"response_schema\": BaseResponse,\n",
    "},\n",
    ")\n",
    "\n",
    "print(json.loads(response.text)['classified'].pop())"
   ]
  },
  {
   "cell_type": "code",
   "execution_count": null,
   "id": "169a9148",
   "metadata": {},
   "outputs": [],
   "source": []
  },
  {
   "cell_type": "code",
   "execution_count": 19,
   "id": "e8f8ed55",
   "metadata": {},
   "outputs": [
    {
     "data": {
      "text/plain": [
       "{'category': 'Health', 'diificulty': 'HARD'}"
      ]
     },
     "execution_count": 19,
     "metadata": {},
     "output_type": "execute_result"
    }
   ],
   "source": []
  },
  {
   "cell_type": "code",
   "execution_count": 16,
   "id": "d7efdcbf",
   "metadata": {},
   "outputs": [
    {
     "ename": "SyntaxError",
     "evalue": "expected argument value expression (4240119389.py, line 8)",
     "output_type": "error",
     "traceback": [
      "  \u001b[36mCell\u001b[39m\u001b[36m \u001b[39m\u001b[32mIn[16]\u001b[39m\u001b[32m, line 8\u001b[39m\n\u001b[31m    \u001b[39m\u001b[31mfollow_up_quesions=\u001b[39m\n    ^\n\u001b[31mSyntaxError\u001b[39m\u001b[31m:\u001b[39m expected argument value expression\n"
     ]
    }
   ],
   "source": [
    "questions=[\n",
    "    SetupQuestions(\n",
    "        question_prompt='Hello',\n",
    "        options=[\n",
    "            SelectProviderQuestions(\n",
    "                label='Gemini',\n",
    "                question_prompt='Do you want to use Gemini as as your LLM?',\n",
    "                follow_up_quesions=\n",
    "            )\n",
    "        ])]\n",
    "for question in questions:\n",
    "    input(question.question_prompt)"
   ]
  },
  {
   "cell_type": "code",
   "execution_count": 12,
   "id": "dc05eee6",
   "metadata": {},
   "outputs": [],
   "source": [
    "config_path=Path.home()/'.habit'\n",
    "if not config_path.exists(): \n",
    "    pass"
   ]
  },
  {
   "cell_type": "code",
   "execution_count": 7,
   "id": "5090b479",
   "metadata": {},
   "outputs": [
    {
     "data": {
      "text/plain": [
       "False"
      ]
     },
     "execution_count": 7,
     "metadata": {},
     "output_type": "execute_result"
    }
   ],
   "source": [
    "temp.exists()"
   ]
  },
  {
   "cell_type": "code",
   "execution_count": null,
   "id": "cb4bd0cf",
   "metadata": {},
   "outputs": [],
   "source": []
  }
 ],
 "metadata": {
  "kernelspec": {
   "display_name": "habit",
   "language": "python",
   "name": "python3"
  },
  "language_info": {
   "codemirror_mode": {
    "name": "ipython",
    "version": 3
   },
   "file_extension": ".py",
   "mimetype": "text/x-python",
   "name": "python",
   "nbconvert_exporter": "python",
   "pygments_lexer": "ipython3",
   "version": "3.12.11"
  }
 },
 "nbformat": 4,
 "nbformat_minor": 5
}
