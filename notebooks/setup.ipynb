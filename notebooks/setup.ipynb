{
 "cells": [
  {
   "cell_type": "code",
   "execution_count": 1,
   "id": "13e4bc6f",
   "metadata": {},
   "outputs": [],
   "source": [
    "import os \n",
    "os.chdir('..')"
   ]
  },
  {
   "cell_type": "code",
   "execution_count": 2,
   "id": "5c537300",
   "metadata": {},
   "outputs": [
    {
     "name": "stdout",
     "output_type": "stream",
     "text": [
      "/Users/adi/Skaarfacee/github/habit\n"
     ]
    }
   ],
   "source": [
    "print(os.getcwd())"
   ]
  },
  {
   "cell_type": "code",
   "execution_count": 3,
   "id": "ac9a22d9",
   "metadata": {},
   "outputs": [],
   "source": [
    "from pathlib import Path\n",
    "import dotenv\n",
    "CONFIG_PATH='.habit'\n",
    "from config.types import SetupQuestions,SelectProviderQuestions\n",
    "# dotenv.dotenv_values(config_path)\n"
   ]
  },
  {
   "cell_type": "code",
   "execution_count": null,
   "id": "4e1c8bc0",
   "metadata": {},
   "outputs": [
    {
     "name": "stdout",
     "output_type": "stream",
     "text": [
      "{\"classified\":[{\"category\":\"Play\"}]}\n"
     ]
    }
   ],
   "source": [
    "from google import genai\n",
    "from llm.base_response import BaseResponse\n",
    "categories=['Work','Play','Health']\n",
    "task='Played FIFA'\n",
    "client = genai.Client(api_key='')\n",
    "\n",
    "response = client.models.generate_content(\n",
    "    model=\"gemini-2.5-flash\",\n",
    "    contents=f\"\"\"\n",
    "    You are a usefull personal assitant that will categorize a task into the following categories {categories} based on the task. \n",
    "    You are also fully capable of describing the task in hand as EASY,MEDIUM,HARD\n",
    "    \n",
    "    ============\n",
    "    This is the task \n",
    "    {task}\n",
    "    \n",
    "    \"\"\",\n",
    "    config={\n",
    "    \"response_mime_type\": \"application/json\",\n",
    "    \"response_schema\": BaseResponse,\n",
    "},\n",
    ")\n",
    "\n",
    "print(response.text)"
   ]
  },
  {
   "cell_type": "code",
   "execution_count": null,
   "id": "e8f8ed55",
   "metadata": {},
   "outputs": [
    {
     "data": {
      "text/plain": [
       "[ProviderQuestions(question='Enter your Gemini API key', default_answer='', choice=False),\n",
       " ProviderQuestions(question='What model do you want to use', default_answer=['flash 2.5', 'flash 2.5 pro'], choice=True)]"
      ]
     },
     "execution_count": 4,
     "metadata": {},
     "output_type": "execute_result"
    }
   ],
   "source": [
    "from llm.providers.Gemini.setup import Gemini\n",
    "Gemini.get_questions()"
   ]
  },
  {
   "cell_type": "code",
   "execution_count": 16,
   "id": "d7efdcbf",
   "metadata": {},
   "outputs": [
    {
     "ename": "SyntaxError",
     "evalue": "expected argument value expression (4240119389.py, line 8)",
     "output_type": "error",
     "traceback": [
      "  \u001b[36mCell\u001b[39m\u001b[36m \u001b[39m\u001b[32mIn[16]\u001b[39m\u001b[32m, line 8\u001b[39m\n\u001b[31m    \u001b[39m\u001b[31mfollow_up_quesions=\u001b[39m\n    ^\n\u001b[31mSyntaxError\u001b[39m\u001b[31m:\u001b[39m expected argument value expression\n"
     ]
    }
   ],
   "source": [
    "questions=[\n",
    "    SetupQuestions(\n",
    "        question_prompt='Hello',\n",
    "        options=[\n",
    "            SelectProviderQuestions(\n",
    "                label='Gemini',\n",
    "                question_prompt='Do you want to use Gemini as as your LLM?',\n",
    "                follow_up_quesions=\n",
    "            )\n",
    "        ])]\n",
    "for question in questions:\n",
    "    input(question.question_prompt)"
   ]
  },
  {
   "cell_type": "code",
   "execution_count": 12,
   "id": "dc05eee6",
   "metadata": {},
   "outputs": [],
   "source": [
    "config_path=Path.home()/'.habit'\n",
    "if not config_path.exists(): \n",
    "    pass"
   ]
  },
  {
   "cell_type": "code",
   "execution_count": 7,
   "id": "5090b479",
   "metadata": {},
   "outputs": [
    {
     "data": {
      "text/plain": [
       "False"
      ]
     },
     "execution_count": 7,
     "metadata": {},
     "output_type": "execute_result"
    }
   ],
   "source": [
    "temp.exists()"
   ]
  },
  {
   "cell_type": "code",
   "execution_count": null,
   "id": "cb4bd0cf",
   "metadata": {},
   "outputs": [],
   "source": []
  }
 ],
 "metadata": {
  "kernelspec": {
   "display_name": "habit",
   "language": "python",
   "name": "python3"
  },
  "language_info": {
   "codemirror_mode": {
    "name": "ipython",
    "version": 3
   },
   "file_extension": ".py",
   "mimetype": "text/x-python",
   "name": "python",
   "nbconvert_exporter": "python",
   "pygments_lexer": "ipython3",
   "version": "3.12.11"
  }
 },
 "nbformat": 4,
 "nbformat_minor": 5
}
